{
  "nbformat": 4,
  "nbformat_minor": 0,
  "metadata": {
    "colab": {
      "name": "TensorBasics.ipynb",
      "provenance": [],
      "collapsed_sections": []
    },
    "kernelspec": {
      "name": "python3",
      "display_name": "Python 3"
    }
  },
  "cells": [
    {
      "cell_type": "code",
      "metadata": {
        "id": "iM8WuDD_Ibaw",
        "colab_type": "code",
        "colab": {
          "base_uri": "https://localhost:8080/",
          "height": 33
        },
        "outputId": "7b945acf-6d80-41a9-b089-7b6d73cdec3d"
      },
      "source": [
        "# this is a scalar or a 0D tensor (zero-dim tensor)\n",
        "# a 0D tensor is a tensor of rank 0\n",
        "import numpy as np\n",
        "scalar = np.array(13)\n",
        "scalar"
      ],
      "execution_count": null,
      "outputs": [
        {
          "output_type": "execute_result",
          "data": {
            "text/plain": [
              "array(13)"
            ]
          },
          "metadata": {
            "tags": []
          },
          "execution_count": 14
        }
      ]
    },
    {
      "cell_type": "code",
      "metadata": {
        "id": "fPyb59dsI77Q",
        "colab_type": "code",
        "colab": {
          "base_uri": "https://localhost:8080/",
          "height": 33
        },
        "outputId": "271866d9-c1b4-42fa-98ce-2c88fd312a48"
      },
      "source": [
        "print('A scalar is of rank %d' %(scalar.ndim)) # ndim delivers the rank of a tensor"
      ],
      "execution_count": null,
      "outputs": [
        {
          "output_type": "stream",
          "text": [
            "A scalar is of rank 0\n"
          ],
          "name": "stdout"
        }
      ]
    },
    {
      "cell_type": "markdown",
      "metadata": {
        "id": "BQTSmxKQJ9Cs",
        "colab_type": "text"
      },
      "source": [
        "the rank of a tensor is also often reffered to as the axis of the tensor. Hence the axis of a scalar, a 0D-tensor is zero\n",
        "\n",
        "```\n",
        "# Als Code formatiert\n",
        "```\n",
        "\n"
      ]
    },
    {
      "cell_type": "code",
      "metadata": {
        "id": "-NhgY0WNj_fi",
        "colab_type": "code",
        "colab": {
          "base_uri": "https://localhost:8080/",
          "height": 33
        },
        "outputId": "d4d078b5-6493-42a1-b6ce-0db5cda0642f"
      },
      "source": [
        "# this is a vector or a 1D tensor \n",
        "# a 1D tensor is a tensor of rank 1 with 1 axis.\n",
        "vector = np.array([11,12,13,14,15])\n",
        "vector\n"
      ],
      "execution_count": null,
      "outputs": [
        {
          "output_type": "execute_result",
          "data": {
            "text/plain": [
              "array([11, 12, 13, 14, 15])"
            ]
          },
          "metadata": {
            "tags": []
          },
          "execution_count": 16
        }
      ]
    },
    {
      "cell_type": "code",
      "metadata": {
        "id": "E9jK-fbfkYCa",
        "colab_type": "code",
        "colab": {
          "base_uri": "https://localhost:8080/",
          "height": 33
        },
        "outputId": "9e5d60c2-2602-41b4-c00a-f1e0aed5b604"
      },
      "source": [
        "print('A vector is of rank %d' %(vector.ndim)) # ndim delivers the rank of a tensor"
      ],
      "execution_count": null,
      "outputs": [
        {
          "output_type": "stream",
          "text": [
            "A vector is of rank 1\n"
          ],
          "name": "stdout"
        }
      ]
    },
    {
      "cell_type": "code",
      "metadata": {
        "id": "BjPMr6MrlU71",
        "colab_type": "code",
        "colab": {
          "base_uri": "https://localhost:8080/",
          "height": 66
        },
        "outputId": "6afee8e9-a33d-49c3-89b6-2aedff9a6925"
      },
      "source": [
        "# this is a matrix or a 2D tensor \n",
        "# a 2D tensor is a tensor of rank 2 with 2 axes.\n",
        "mat = np.array([[1,2,3,4,5],\n",
        "               [11,12,13,14,15],\n",
        "               [21,22,23,24,25]])\n",
        "mat"
      ],
      "execution_count": null,
      "outputs": [
        {
          "output_type": "execute_result",
          "data": {
            "text/plain": [
              "array([[ 1,  2,  3,  4,  5],\n",
              "       [11, 12, 13, 14, 15],\n",
              "       [21, 22, 23, 24, 25]])"
            ]
          },
          "metadata": {
            "tags": []
          },
          "execution_count": 18
        }
      ]
    },
    {
      "cell_type": "code",
      "metadata": {
        "id": "mUP_U6Iql4TU",
        "colab_type": "code",
        "colab": {
          "base_uri": "https://localhost:8080/",
          "height": 33
        },
        "outputId": "76226457-08ee-4461-ee77-26fe02e6c452"
      },
      "source": [
        "print('A matrix is of rank %d' %(mat.ndim)) # ndim delivers the rank of a tensor"
      ],
      "execution_count": null,
      "outputs": [
        {
          "output_type": "stream",
          "text": [
            "A matrix is of rank 2\n"
          ],
          "name": "stdout"
        }
      ]
    },
    {
      "cell_type": "markdown",
      "metadata": {
        "id": "f9uuhSHBmaD-",
        "colab_type": "text"
      },
      "source": [
        "the entries from the first axis are the \"rows\"\n",
        "the entris from the second axis are the \"columns\""
      ]
    },
    {
      "cell_type": "code",
      "metadata": {
        "id": "AcIoul_xnTy9",
        "colab_type": "code",
        "colab": {
          "base_uri": "https://localhost:8080/",
          "height": 33
        },
        "outputId": "f38d6f94-ea54-430b-e25c-9c898631b986"
      },
      "source": [
        "# this is a slightly bigger matrix\n",
        "mat2 = np.array([[1,2,3,4,5],\n",
        "               [11,12,13,14,15],\n",
        "               [21,22,23,24,25],\n",
        "               [31,32,33,34,35],\n",
        "               [41,42,43,44,45]])\n",
        "\n",
        "print('This matrix is of rank %d, too' %(mat2.ndim)) # rank or axes refer to rows and columns"
      ],
      "execution_count": null,
      "outputs": [
        {
          "output_type": "stream",
          "text": [
            "This matrix is of rank 2, too\n"
          ],
          "name": "stdout"
        }
      ]
    },
    {
      "cell_type": "code",
      "metadata": {
        "id": "hN9652rYzRtI",
        "colab_type": "code",
        "colab": {
          "base_uri": "https://localhost:8080/",
          "height": 200
        },
        "outputId": "200e4710-97a6-4be8-aeb9-bf578990472f"
      },
      "source": [
        "# this is a cube or a 3D tensor \n",
        "# a 3D tensor is a tensor of rank 3 with 3 axes.\n",
        "cube = np.array([[[1,2,3,4,5],\n",
        "               [11,12,13,14,15],\n",
        "               [21,22,23,24,25]],\n",
        "               [[6,7,8,9,10],\n",
        "               [16,17,18,19,20],\n",
        "               [26,27,28,29,30]],\n",
        "               [[100,200,300,400,500],\n",
        "               [110,120,130,140,150],\n",
        "               [2121,2221,2321,2421,2521]]])\n",
        "cube"
      ],
      "execution_count": null,
      "outputs": [
        {
          "output_type": "execute_result",
          "data": {
            "text/plain": [
              "array([[[   1,    2,    3,    4,    5],\n",
              "        [  11,   12,   13,   14,   15],\n",
              "        [  21,   22,   23,   24,   25]],\n",
              "\n",
              "       [[   6,    7,    8,    9,   10],\n",
              "        [  16,   17,   18,   19,   20],\n",
              "        [  26,   27,   28,   29,   30]],\n",
              "\n",
              "       [[ 100,  200,  300,  400,  500],\n",
              "        [ 110,  120,  130,  140,  150],\n",
              "        [2121, 2221, 2321, 2421, 2521]]])"
            ]
          },
          "metadata": {
            "tags": []
          },
          "execution_count": 21
        }
      ]
    },
    {
      "cell_type": "code",
      "metadata": {
        "id": "yfj1xvQl1YFP",
        "colab_type": "code",
        "colab": {
          "base_uri": "https://localhost:8080/",
          "height": 33
        },
        "outputId": "5e4b9af9-3fda-4405-8c2f-6dcf1f575095"
      },
      "source": [
        "print('This cube is of rank %d' %(cube.ndim)) # rank or axes refer to rows and columns and depth"
      ],
      "execution_count": null,
      "outputs": [
        {
          "output_type": "stream",
          "text": [
            "This cube is of rank 3\n"
          ],
          "name": "stdout"
        }
      ]
    },
    {
      "cell_type": "code",
      "metadata": {
        "id": "4Tt7nb_V2zq2",
        "colab_type": "code",
        "colab": {
          "base_uri": "https://localhost:8080/",
          "height": 33
        },
        "outputId": "72cfe99e-05ad-46ab-adea-41a194bc1627"
      },
      "source": [
        "# shape of scalar\n",
        "scalar.shape"
      ],
      "execution_count": null,
      "outputs": [
        {
          "output_type": "execute_result",
          "data": {
            "text/plain": [
              "()"
            ]
          },
          "metadata": {
            "tags": []
          },
          "execution_count": 23
        }
      ]
    },
    {
      "cell_type": "code",
      "metadata": {
        "id": "PlWRD2UA25yX",
        "colab_type": "code",
        "colab": {
          "base_uri": "https://localhost:8080/",
          "height": 33
        },
        "outputId": "f5dcd1f3-b768-44e3-ee68-163f32b8fc35"
      },
      "source": [
        "# shape of vector\n",
        "vector.shape"
      ],
      "execution_count": null,
      "outputs": [
        {
          "output_type": "execute_result",
          "data": {
            "text/plain": [
              "(5,)"
            ]
          },
          "metadata": {
            "tags": []
          },
          "execution_count": 24
        }
      ]
    },
    {
      "cell_type": "code",
      "metadata": {
        "id": "troB_GQyogVe",
        "colab_type": "code",
        "colab": {
          "base_uri": "https://localhost:8080/",
          "height": 50
        },
        "outputId": "c09bd46f-0507-4196-b4e4-98f4a0dd2d95"
      },
      "source": [
        "# so what is the difference between mat and mat2??\n",
        "# -> it is the shape of the matrices\n",
        "# the 'shape' delivers how  many dimensions the tensor has got along each axis\n",
        "print('The shape of matrix mat is ')\n",
        "mat.shape"
      ],
      "execution_count": null,
      "outputs": [
        {
          "output_type": "stream",
          "text": [
            "The shape of matrix mat is \n"
          ],
          "name": "stdout"
        },
        {
          "output_type": "execute_result",
          "data": {
            "text/plain": [
              "(3, 5)"
            ]
          },
          "metadata": {
            "tags": []
          },
          "execution_count": 25
        }
      ]
    },
    {
      "cell_type": "code",
      "metadata": {
        "id": "2E6q-eX6o7jU",
        "colab_type": "code",
        "colab": {
          "base_uri": "https://localhost:8080/",
          "height": 50
        },
        "outputId": "9190a466-a850-4fd6-d957-c06dd3f2630c"
      },
      "source": [
        "print('The shape of matrix mat2 is ')\n",
        "mat2.shape"
      ],
      "execution_count": null,
      "outputs": [
        {
          "output_type": "stream",
          "text": [
            "The shape of matrix mat2 is \n"
          ],
          "name": "stdout"
        },
        {
          "output_type": "execute_result",
          "data": {
            "text/plain": [
              "(5, 5)"
            ]
          },
          "metadata": {
            "tags": []
          },
          "execution_count": 26
        }
      ]
    },
    {
      "cell_type": "code",
      "metadata": {
        "id": "ST63jWB73DKn",
        "colab_type": "code",
        "colab": {
          "base_uri": "https://localhost:8080/",
          "height": 33
        },
        "outputId": "af19e575-1257-4c31-8264-1d7ea8d5ebc3"
      },
      "source": [
        "# shape of cube\n",
        "cube.shape"
      ],
      "execution_count": null,
      "outputs": [
        {
          "output_type": "execute_result",
          "data": {
            "text/plain": [
              "(3, 3, 5)"
            ]
          },
          "metadata": {
            "tags": []
          },
          "execution_count": 27
        }
      ]
    },
    {
      "cell_type": "markdown",
      "metadata": {
        "id": "tgjnQa2celFp",
        "colab_type": "text"
      },
      "source": [
        "_________________________________________________________\n",
        "This sections deals with more complex shapes and tensors\n",
        "_________________________________________________________"
      ]
    },
    {
      "cell_type": "code",
      "metadata": {
        "id": "d762d8lHekDH",
        "colab_type": "code",
        "colab": {}
      },
      "source": [
        "#imports\n",
        "from tensorflow.keras.datasets import mnist\n",
        "import matplotlib.pyplot as plt\n",
        "\n",
        "# load data set, that is split already into a training and testing set\n",
        "(train_images, train_labels), (test_images, test_labels) = mnist.load_data()"
      ],
      "execution_count": null,
      "outputs": []
    },
    {
      "cell_type": "code",
      "metadata": {
        "id": "V6RelWy8giJi",
        "colab_type": "code",
        "colab": {
          "base_uri": "https://localhost:8080/",
          "height": 66
        },
        "outputId": "1207ad77-af81-4e07-83d6-20928e43fe18"
      },
      "source": [
        "print(train_images.shape)\n",
        "print(train_images.dtype)\n",
        "print(train_images.ndim)"
      ],
      "execution_count": null,
      "outputs": [
        {
          "output_type": "stream",
          "text": [
            "(60000, 28, 28)\n",
            "uint8\n",
            "3\n"
          ],
          "name": "stdout"
        }
      ]
    },
    {
      "cell_type": "code",
      "metadata": {
        "id": "M2PHQCOMfnwH",
        "colab_type": "code",
        "colab": {
          "base_uri": "https://localhost:8080/",
          "height": 264
        },
        "outputId": "6e803b4f-baf8-4148-e1b1-f22d6722386f"
      },
      "source": [
        "trainimage_picked = train_images[666] # pick image at index 666 from the training data set\n",
        "plt.imshow(trainimage_picked, cmap=plt.cm.binary)\n",
        "plt.show()"
      ],
      "execution_count": null,
      "outputs": [
        {
          "output_type": "display_data",
          "data": {
            "image/png": "[encoded data removed]",
            "text/plain": [
              "<Figure size 432x288 with 1 Axes>"
            ]
          },
          "metadata": {
            "tags": [],
            "needs_background": "light"
          }
        }
      ]
    },
    {
      "cell_type": "markdown",
      "metadata": {
        "id": "_zva-oGukO1q",
        "colab_type": "text"
      },
      "source": [
        "______________________________________________________________\n",
        "Sometimes is it useful just to take parts/slices of data sets. Here is how to slice tensors. \n",
        "We just take a slice (often denoted as a batch) of 90 images,\n",
        "from index 10 to 99. **NOTE** that all three ways of slicing result\n",
        "in the same.\n",
        "______________________________________________________________"
      ]
    },
    {
      "cell_type": "code",
      "metadata": {
        "id": "tOpXrfeNjpW1",
        "colab_type": "code",
        "colab": {
          "base_uri": "https://localhost:8080/",
          "height": 33
        },
        "outputId": "c06ceed4-245e-4a4e-8968-d41606ad4c52"
      },
      "source": [
        "my_slice = train_images[10:100, 0:28, 0:28]\n",
        "my_slice.shape"
      ],
      "execution_count": null,
      "outputs": [
        {
          "output_type": "execute_result",
          "data": {
            "text/plain": [
              "(90, 28, 28)"
            ]
          },
          "metadata": {
            "tags": []
          },
          "execution_count": 35
        }
      ]
    },
    {
      "cell_type": "code",
      "metadata": {
        "id": "7hvb6dhhkaDy",
        "colab_type": "code",
        "colab": {
          "base_uri": "https://localhost:8080/",
          "height": 33
        },
        "outputId": "ca01d143-7ca2-494a-d277-ee25c7082335"
      },
      "source": [
        "my_slice = train_images[10:100, :, :]\n",
        "my_slice.shape"
      ],
      "execution_count": null,
      "outputs": [
        {
          "output_type": "execute_result",
          "data": {
            "text/plain": [
              "(90, 28, 28)"
            ]
          },
          "metadata": {
            "tags": []
          },
          "execution_count": 36
        }
      ]
    },
    {
      "cell_type": "code",
      "metadata": {
        "id": "b4IAgIT-kdzl",
        "colab_type": "code",
        "colab": {
          "base_uri": "https://localhost:8080/",
          "height": 33
        },
        "outputId": "4a1e90b1-70c1-4849-b8df-995980f95d98"
      },
      "source": [
        "my_slice = train_images[10:100]\n",
        "print(my_slice.shape)"
      ],
      "execution_count": null,
      "outputs": [
        {
          "output_type": "stream",
          "text": [
            "(90, 28, 28)\n"
          ],
          "name": "stdout"
        }
      ]
    },
    {
      "cell_type": "code",
      "metadata": {
        "id": "mNgo-FBlmEKl",
        "colab_type": "code",
        "colab": {
          "base_uri": "https://localhost:8080/",
          "height": 33
        },
        "outputId": "3f1bac85-d130-491d-fe44-77ce913084db"
      },
      "source": [
        "# also parts of images can be extracted by slicing the other axes of the tensor\n",
        "my_slice = train_images[10:100, 14:, 14:] # this takes the bottom-right corner of each of the 90 images\n",
        "print(my_slice.shape)"
      ],
      "execution_count": null,
      "outputs": [
        {
          "output_type": "stream",
          "text": [
            "(90, 14, 14)\n"
          ],
          "name": "stdout"
        }
      ]
    },
    {
      "cell_type": "code",
      "metadata": {
        "id": "3-xQ2RNgmm9z",
        "colab_type": "code",
        "colab": {
          "base_uri": "https://localhost:8080/",
          "height": 33
        },
        "outputId": "7c570ead-bea3-4f08-ed54-c559225c1e64"
      },
      "source": [
        "# by using a negative index, you slice out the center piece.\n",
        "my_slice = train_images[10:100, 7:-7, 7:-7]\n",
        "print(my_slice.shape)"
      ],
      "execution_count": null,
      "outputs": [
        {
          "output_type": "stream",
          "text": [
            "(90, 14, 14)\n"
          ],
          "name": "stdout"
        }
      ]
    }
  ]
}
